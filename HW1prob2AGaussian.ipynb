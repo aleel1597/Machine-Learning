{
 "cells": [
  {
   "cell_type": "code",
   "execution_count": 13,
   "metadata": {},
   "outputs": [
    {
     "name": "stdout",
     "output_type": "stream",
     "text": [
      "0.5553571428571429\n"
     ]
    }
   ],
   "source": [
    "import numpy as np\n",
    "import random\n",
    "import csv\n",
    "\n",
    "from sklearn.naive_bayes import GaussianNB, BernoulliNB\n",
    "from sklearn.cross_validation import train_test_split\n",
    "\n",
    "if __name__==\"__main__\":\n",
    "\n",
    "    \n",
    "    f = \"MNISTtrain.csv\";\n",
    "    data = np.genfromtxt(f, delimiter = \",\", skip_header = True);\n",
    "    X = data[:,1:]\n",
    "    Y = data[:,0]\n",
    "    \n",
    "    train, test = train_test_split(data, train_size = 0.8)\n",
    "    \n",
    "    \n",
    "    clf = GaussianNB()\n",
    "    clf.fit(train[:,1:], train[:,0])\n",
    "    \n",
    "    predictedY = clf.predict(test[:,1:])\n",
    "    \n",
    "    wrong = 0;\n",
    "    testY = test[:,0]\n",
    "    for i in range(len(predictedY)):\n",
    "        if(predictedY[i] != testY[i]):\n",
    "            wrong += 1\n",
    "            \n",
    "    accuracy = 1 - wrong/testY.__len__();\n",
    "    print(accuracy);\n",
    "    \n"
   ]
  }
 ],
 "metadata": {
  "kernelspec": {
   "display_name": "Python 3",
   "language": "python",
   "name": "python3"
  },
  "language_info": {
   "codemirror_mode": {
    "name": "ipython",
    "version": 3
   },
   "file_extension": ".py",
   "mimetype": "text/x-python",
   "name": "python",
   "nbconvert_exporter": "python",
   "pygments_lexer": "ipython3",
   "version": "3.6.3"
  }
 },
 "nbformat": 4,
 "nbformat_minor": 2
}
