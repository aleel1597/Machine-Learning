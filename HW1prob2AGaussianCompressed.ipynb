{
 "cells": [
  {
   "cell_type": "code",
   "execution_count": 2,
   "metadata": {},
   "outputs": [
    {
     "name": "stdout",
     "output_type": "stream",
     "text": [
      "0.825\n"
     ]
    }
   ],
   "source": [
    "import numpy as np\n",
    "import random\n",
    "import csv\n",
    "\n",
    "from sklearn.naive_bayes import GaussianNB, BernoulliNB\n",
    "from sklearn.cross_validation import train_test_split\n",
    "from scipy.misc import imresize\n",
    "\n",
    "def bbox2(img):\n",
    "    rows = np.any(img, axis=1)\n",
    "    cols = np.any(img, axis=0)\n",
    "    ymin, ymax = np.where(rows)[0][[0, -1]]\n",
    "    xmin, xmax = np.where(cols)[0][[0, -1]]\n",
    "    return img[ymin:ymax+1, xmin:xmax+1]\n",
    "\n",
    "if __name__==\"__main__\":\n",
    "\n",
    "    \n",
    "    \n",
    "    f = \"MNISTtrain.csv\";\n",
    "    data = np.genfromtxt(f, delimiter = \",\", skip_header = True);\n",
    "    \n",
    "    compressed = []\n",
    "    \n",
    "    for row in data:\n",
    "        label = row[0]\n",
    "        picture = row[1:]\n",
    "        convert2d = picture.reshape(28, 28)\n",
    "        converted2d = bbox2(convert2d)\n",
    "        scaledimg = imresize(converted2d, (20,20))\n",
    "        flattened1d = scaledimg.flatten()\n",
    "        flattened1d = np.insert(flattened1d, 0, label)\n",
    "        compressed.append(flattened1d)\n",
    "        \n",
    "    compressed = np.asarray(compressed)    \n",
    "    \n",
    "    X = compressed[:,1:]\n",
    "    Y = compressed[:,0]\n",
    "    \n",
    "    train, test = train_test_split(compressed, train_size = 0.8)\n",
    "    \n",
    "    \n",
    "    clf = GaussianNB()\n",
    "    clf.fit(train[:,1:], train[:,0])\n",
    "    \n",
    "    predictedY = clf.predict(test[:,1:])\n",
    "    \n",
    "    wrong = 0;\n",
    "    testY = test[:,0]\n",
    "    for i in range(len(predictedY)):\n",
    "        if(predictedY[i] != testY[i]):\n",
    "            wrong += 1\n",
    "            \n",
    "    accuracy = 1 - wrong/testY.__len__();\n",
    "    print(accuracy);\n",
    "    \n"
   ]
  }
 ],
 "metadata": {
  "kernelspec": {
   "display_name": "Python 3",
   "language": "python",
   "name": "python3"
  },
  "language_info": {
   "codemirror_mode": {
    "name": "ipython",
    "version": 3
   },
   "file_extension": ".py",
   "mimetype": "text/x-python",
   "name": "python",
   "nbconvert_exporter": "python",
   "pygments_lexer": "ipython3",
   "version": "3.6.3"
  }
 },
 "nbformat": 4,
 "nbformat_minor": 2
}
